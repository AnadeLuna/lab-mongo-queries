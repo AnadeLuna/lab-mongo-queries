{
 "cells": [
  {
   "cell_type": "markdown",
   "metadata": {},
   "source": [
    "# Advanced Querying Mongo"
   ]
  },
  {
   "cell_type": "markdown",
   "metadata": {},
   "source": [
    "Importing libraries and setting up connection"
   ]
  },
  {
   "cell_type": "code",
   "execution_count": null,
   "metadata": {},
   "outputs": [],
   "source": [
    "# from pymongo import MongoClient\n",
    "# client = MongoClient(\"\")"
   ]
  },
  {
   "cell_type": "code",
   "execution_count": 4,
   "metadata": {},
   "outputs": [
    {
     "data": {
      "text/plain": [
       "Database(MongoClient(host=['localhost:27017'], document_class=dict, tz_aware=False, connect=True), 'ironhack')"
      ]
     },
     "execution_count": 4,
     "metadata": {},
     "output_type": "execute_result"
    }
   ],
   "source": [
    "from pymongo import MongoClient\n",
    "client = MongoClient()\n",
    "db = client.ironhack"
   ]
  },
  {
   "cell_type": "markdown",
   "metadata": {},
   "source": [
    "### 1. All the companies whose name match 'Babelgum'. Retrieve only their `name` field."
   ]
  },
  {
   "cell_type": "code",
   "execution_count": 9,
   "metadata": {},
   "outputs": [
    {
     "data": {
      "text/plain": [
       "Collection(Database(MongoClient(host=['localhost:27017'], document_class=dict, tz_aware=False, connect=True), 'ironhack'), 'companies')"
      ]
     },
     "execution_count": 9,
     "metadata": {},
     "output_type": "execute_result"
    }
   ],
   "source": [
    "db.companies"
   ]
  },
  {
   "cell_type": "code",
   "execution_count": 41,
   "metadata": {},
   "outputs": [],
   "source": [
    "# Your Code\n",
    "\n",
    "filt = {\"name\":{\"$eq\":\"Babelgum\"}} \n",
    "proyect = {\"_id\":0, \"name\":1}\n",
    "result = db.companies.find(filt,proyect)\n",
    "#list(result)"
   ]
  },
  {
   "cell_type": "markdown",
   "metadata": {},
   "source": [
    "### 2. All the companies that have more than 5000 employees. Limit the search to 20 companies and sort them by **number of employees**."
   ]
  },
  {
   "cell_type": "code",
   "execution_count": 40,
   "metadata": {},
   "outputs": [],
   "source": [
    "# Your Code\n",
    "\n",
    "filt = {\"number_of_employees\":{\"$gt\":5000}}\n",
    "proyect = {\"_id\":0, \"name\":1}\n",
    "result = db.companies.find(filt,proyect).sort(\"number_of_employees\",-1).limit(20)\n",
    "#list(result)"
   ]
  },
  {
   "cell_type": "markdown",
   "metadata": {},
   "source": [
    "### 3. All the companies founded between 2000 and 2005, both years included. Retrieve only the `name` and `founded_year` fields."
   ]
  },
  {
   "cell_type": "code",
   "execution_count": 39,
   "metadata": {},
   "outputs": [],
   "source": [
    "# Your Code\n",
    "\n",
    "filt = {\"founded_year\":{\"$gte\":2000,\"$lte\":2005}}\n",
    "proyect = {\"_id\":0,\"name\":1,\"founded_year\":1}\n",
    "result = db.companies.find(filt,proyect)\n",
    "#list(result)"
   ]
  },
  {
   "cell_type": "markdown",
   "metadata": {},
   "source": [
    "### 4. All the companies that had a Valuation Amount of more than 100.000.000 and have been founded before 2010. Retrieve only the `name` and `ipo` fields."
   ]
  },
  {
   "cell_type": "code",
   "execution_count": 38,
   "metadata": {},
   "outputs": [],
   "source": [
    "# Your Code\n",
    "#Esta busqueda no me daba ningún valor\n",
    "\n",
    "filt = {\"$and\":[{\"ipo.valuation_amount\":{\"$eq\":100000000}},{\"founded_year\":{\"$lt\":2000}}]}\n",
    "proyect = {\"_id\":0,\"name\":1,\"ipo\":1}\n",
    "result = db.companies.find(filt,proyect)\n",
    "#list(result)"
   ]
  },
  {
   "cell_type": "code",
   "execution_count": 37,
   "metadata": {},
   "outputs": [],
   "source": [
    "#Busqueda por valuation_amount.\n",
    "\n",
    "filt = {\"ipo.valuation_amount\":{\"$eq\":100000000}}\n",
    "proyect = {\"_id\":0,\"name\":1,\"ipo\":1}\n",
    "result = db.companies.find(filt,proyect)\n",
    "#list(result)"
   ]
  },
  {
   "cell_type": "code",
   "execution_count": 43,
   "metadata": {},
   "outputs": [],
   "source": [
    "#Busqueda por Found_year.\n",
    "\n",
    "filt = {\"founded_year\":{\"$lt\":2000}}\n",
    "proyect = {\"_id\":0,\"name\":1,\"ipo\":1}\n",
    "result = db.companies.find(filt,proyect)\n",
    "#list(result)"
   ]
  },
  {
   "cell_type": "markdown",
   "metadata": {},
   "source": [
    "### 5. All the companies that have less than 1000 employees and have been founded before 2005. Order them by the number of employees and limit the search to 10 companies."
   ]
  },
  {
   "cell_type": "code",
   "execution_count": 45,
   "metadata": {},
   "outputs": [],
   "source": [
    "# Your Code\n",
    "\n",
    "filt = {\"$and\":[{\"number_of_employees\":{\"$lt\":1000}},{\"founded_year\":{\"$lt\":2005}}]}\n",
    "proyect = {\"_id\":0,\"name\":1}\n",
    "result = db.companies.find(filt,proyect).sort(\"number_of_employees\",-1).limit(10)\n",
    "#list(result)"
   ]
  },
  {
   "cell_type": "markdown",
   "metadata": {},
   "source": [
    "### 6. All the companies that don't include the `partners` field."
   ]
  },
  {
   "cell_type": "code",
   "execution_count": 97,
   "metadata": {},
   "outputs": [
    {
     "data": {
      "text/plain": [
       "[]"
      ]
     },
     "execution_count": 97,
     "metadata": {},
     "output_type": "execute_result"
    }
   ],
   "source": [
    "# Your Code\n",
    "#Esta me da una lista vacía pero creo que esta mal como lo hice\n",
    "\n",
    "fields = {\"partners\":\"$nin\"}\n",
    "proyect = {\"_id\":0,\"name\":1}\n",
    "result = db.companies.find(fields,proyect)\n",
    "list(result)"
   ]
  },
  {
   "cell_type": "markdown",
   "metadata": {},
   "source": [
    "### 7. All the companies that have a null type of value on the `category_code` field."
   ]
  },
  {
   "cell_type": "code",
   "execution_count": 59,
   "metadata": {},
   "outputs": [],
   "source": [
    "# Your Code\n",
    "\n",
    "fields = {\"category_code\":{\"$type\":\"null\"}}\n",
    "proyect = {\"_id\":0,\"name\":1}\n",
    "result = db.companies.find(fields,proyect)\n",
    "#list(result)"
   ]
  },
  {
   "cell_type": "markdown",
   "metadata": {},
   "source": [
    "### 8. All the companies that have at least 100 employees but less than 1000. Retrieve only the `name` and `number of employees` fields."
   ]
  },
  {
   "cell_type": "code",
   "execution_count": 61,
   "metadata": {},
   "outputs": [],
   "source": [
    "# Your Code\n",
    "\n",
    "filt = {\"number_of_employees\":{\"$gte\":100,\"$lt\":1000}}\n",
    "proyect = {\"_id\":0, \"name\":1,\"number_of_employees\":1}\n",
    "result = db.companies.find(filt,proyect)\n",
    "#list(result)"
   ]
  },
  {
   "cell_type": "markdown",
   "metadata": {},
   "source": [
    "### 9. Order all the companies by their IPO price in a descending order."
   ]
  },
  {
   "cell_type": "code",
   "execution_count": 76,
   "metadata": {},
   "outputs": [],
   "source": [
    "# Your Code\n",
    "\n",
    "filt = {\"ipo.valuation_amount\":{\"$exists\":\"ipo.valuation_amount\"}}\n",
    "proyect = {\"_id\":0,\"name\":1,\"ipo.valuation_amount\":1}\n",
    "result = db.companies.find(filt,proyect).sort(\"ipo.valuation_amount\",-1).limit(10)\n",
    "#list(result)"
   ]
  },
  {
   "cell_type": "markdown",
   "metadata": {},
   "source": [
    "### 10. Retrieve the 10 companies with more employees, order by the `number of employees`."
   ]
  },
  {
   "cell_type": "code",
   "execution_count": 80,
   "metadata": {},
   "outputs": [],
   "source": [
    "# Your Code\n",
    "\n",
    "filt = {\"number_of_employees\":{\"$exists\":\"number_of_employees\"}}\n",
    "proyect = {\"_id\":0,\"name\":1,\"number_of_employees\":1}\n",
    "result = db.companies.find(filt,proyect).sort(\"number_of_employees\",-1).limit(10)\n",
    "#list(result)"
   ]
  },
  {
   "cell_type": "markdown",
   "metadata": {},
   "source": [
    "### 11. All the companies founded on the second semester of the year. Limit your search to 1000 companies."
   ]
  },
  {
   "cell_type": "code",
   "execution_count": 82,
   "metadata": {},
   "outputs": [],
   "source": [
    "# Your Code\n",
    "\n",
    "filt = {\"founded_month\":{\"$gte\":6}}\n",
    "proyect = {\"_id\":0,\"name\":1,\"founded_month\":1}\n",
    "result = db.companies.find(filt,proyect).limit(1000)\n",
    "#list(result)"
   ]
  },
  {
   "cell_type": "markdown",
   "metadata": {},
   "source": [
    "### 12. All the companies founded before 2000 that have an acquisition amount of more than 10.000.00"
   ]
  },
  {
   "cell_type": "code",
   "execution_count": 85,
   "metadata": {},
   "outputs": [],
   "source": [
    "# Your Code\n",
    "\n",
    "filt = {\"$and\":[{\"founded_year\":{\"$lt\":2000}},{\"acquisition.price_amount\":{\"$gt\":1000000}}]}\n",
    "proyect = {\"_id\":0,\"name\":1,\"founded_year\":1,\"acquisition.price_amount\":1}\n",
    "result = db.companies.find(filt,proyect)\n",
    "#list(result)"
   ]
  },
  {
   "cell_type": "markdown",
   "metadata": {},
   "source": [
    "### 13. All the companies that have been acquired after 2010, order by the acquisition amount, and retrieve only their `name` and `acquisition` field."
   ]
  },
  {
   "cell_type": "code",
   "execution_count": 111,
   "metadata": {},
   "outputs": [],
   "source": [
    "# Your Code\n",
    "#En este ejercicio entiendo que hay que mostar \"acquisition.acquired_year\"\n",
    "\n",
    "filt = {\"acquisition.acquired_year\":{\"$gt\":2010}}\n",
    "proyect = {\"_id\":0,\"name\":1,\"acquisition\":1}\n",
    "result = db.companies.find(filt,proyect).sort(\"acquisition.price_amount\",-1)\n",
    "#list(result)"
   ]
  },
  {
   "cell_type": "markdown",
   "metadata": {},
   "source": [
    "### 14. Order the companies by their `founded year`, retrieving only their `name` and `founded year`."
   ]
  },
  {
   "cell_type": "code",
   "execution_count": 93,
   "metadata": {},
   "outputs": [],
   "source": [
    "# Your Code\n",
    "\n",
    "filt = {\"founded_year\":{\"$exists\":\"founded_year\"}}\n",
    "proyect = {\"_id\":0,\"name\":1,\"founded_year\":1}\n",
    "result = db.companies.find(filt,proyect).sort(\"founded_year\",-1)\n",
    "#list(result)"
   ]
  },
  {
   "cell_type": "markdown",
   "metadata": {},
   "source": [
    "### 15. All the companies that have been founded on the first seven days of the month, including the seventh. Sort them by their `acquisition price` in a descending order. Limit the search to 10 documents."
   ]
  },
  {
   "cell_type": "code",
   "execution_count": 108,
   "metadata": {},
   "outputs": [],
   "source": [
    "# Your Code\n",
    "\n",
    "filt = {\"founded_day\":{\"$lte\":7}}\n",
    "proyect = {\"_id\":0,\"name\":1,\"acquisition.price_amount\":1}\n",
    "result = db.companies.find(filt,proyect).sort(\"acquisition.price_amount\",-1)\n",
    "#list(result)"
   ]
  },
  {
   "cell_type": "markdown",
   "metadata": {},
   "source": [
    "### 16. All the companies on the 'web' `category` that have more than 4000 employees. Sort them by the amount of employees in ascending order."
   ]
  },
  {
   "cell_type": "code",
   "execution_count": 113,
   "metadata": {},
   "outputs": [],
   "source": [
    "# Your Code\n",
    "\n",
    "filt = {\"$and\":[{\"category_code\":{\"$eq\":\"web\"}},{\"number_of_employees\":{\"$gt\":4000}}]}\n",
    "proyect = {\"_id\":0,\"name\":1,\"category_code\":1,\"number_of_employees\":1}\n",
    "result = db.companies.find(filt,proyect).sort(\"number_of_employees\",-1)\n",
    "#list(result)"
   ]
  },
  {
   "cell_type": "markdown",
   "metadata": {},
   "source": [
    "### 17. All the companies whose acquisition amount is more than 10.000.000, and currency is 'EUR'."
   ]
  },
  {
   "cell_type": "code",
   "execution_count": 119,
   "metadata": {},
   "outputs": [],
   "source": [
    "# Your Code\n",
    "\n",
    "filt = {\"$and\":[{\"acquisition.price_amount\":{\"$gt\":10000000}},{\"acquisition.price_currency_code\":{\"$eq\":\"EUR\"}}]}\n",
    "proyect = {\"_id\":0,\"name\":1,\"acquisition.price_amount\":1,\"acquisition.price_currency_code\":1}\n",
    "result = db.companies.find(filt,proyect)\n",
    "#list(result)"
   ]
  },
  {
   "cell_type": "markdown",
   "metadata": {},
   "source": [
    "### 18. All the companies that have been acquired on the first trimester of the year. Limit the search to 10 companies, and retrieve only their `name` and `acquisition` fields."
   ]
  },
  {
   "cell_type": "code",
   "execution_count": 131,
   "metadata": {},
   "outputs": [],
   "source": [
    "# Your Code\n",
    "\n",
    "filt = {\"acquisition.acquired_month\":{\"$lte\":3}}\n",
    "proyect = {\"_id\":0,\"name\":1,\"acquisition\":1}\n",
    "result = db.companies.find(filt,proyect).limit(10)\n",
    "#list(result)"
   ]
  },
  {
   "cell_type": "markdown",
   "metadata": {},
   "source": [
    "# Bonus\n",
    "### 19. All the companies that have been founded between 2000 and 2010, but have not been acquired before 2011."
   ]
  },
  {
   "cell_type": "code",
   "execution_count": 138,
   "metadata": {},
   "outputs": [],
   "source": [
    "# Your Code\n",
    "\n",
    "filt = {\"founded_year\":{\"$gte\":2000,\"$lte\":2010},\"acquisition.acquired_year\":{\"$lt\":2011}}\n",
    "proyect = {\"_id\":0,\"name\":1,\"acquisition\":1}\n",
    "result = db.companies.find(filt,proyect)\n",
    "#list(result)"
   ]
  },
  {
   "cell_type": "markdown",
   "metadata": {},
   "source": [
    "### 20. All the companies that have been 'deadpooled' after the third year."
   ]
  },
  {
   "cell_type": "code",
   "execution_count": 137,
   "metadata": {},
   "outputs": [],
   "source": [
    "# Your Code\n",
    "\n",
    "filt = {\"deadpooled_year\":{\"$gt\":3}}\n",
    "proyect = {\"_id\":0,\"name\":1,\"deadpooled_year\":1}\n",
    "result = db.companies.find(filt,proyect)\n",
    "#list(result)"
   ]
  }
 ],
 "metadata": {
  "kernelspec": {
   "display_name": "Python 3",
   "language": "python",
   "name": "python3"
  },
  "language_info": {
   "codemirror_mode": {
    "name": "ipython",
    "version": 3
   },
   "file_extension": ".py",
   "mimetype": "text/x-python",
   "name": "python",
   "nbconvert_exporter": "python",
   "pygments_lexer": "ipython3",
   "version": "3.9.1"
  }
 },
 "nbformat": 4,
 "nbformat_minor": 2
}
